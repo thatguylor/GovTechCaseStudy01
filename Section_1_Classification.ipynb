{
  "nbformat": 4,
  "nbformat_minor": 0,
  "metadata": {
    "colab": {
      "name": "Section_1_Classification.ipynb",
      "provenance": []
    },
    "kernelspec": {
      "name": "python3",
      "display_name": "Python 3"
    },
    "language_info": {
      "name": "python"
    }
  },
  "cells": [
    {
      "cell_type": "code",
      "metadata": {
        "colab": {
          "base_uri": "https://localhost:8080/",
          "height": 204
        },
        "id": "sI92fyTPbOGX",
        "outputId": "77b1238b-8eba-4b80-aa43-f0433ae23ca3"
      },
      "source": [
        "import pandas as pd\n",
        "import matplotlib.pyplot as plt \n",
        "df = pd.read_csv(r\"/content/cleanedhotspots.csv\")\n",
        "df.replace({\"PUBLIC WORSHIP\": \"OTHERS\", \"DORMITORY / CARE CENTRE\": \"OTHERS\", \"TOURIST ATTRACTION\":\"OTHERS\"})\n",
        "df.head() "
      ],
      "execution_count": 31,
      "outputs": [
        {
          "output_type": "execute_result",
          "data": {
            "text/html": [
              "<div>\n",
              "<style scoped>\n",
              "    .dataframe tbody tr th:only-of-type {\n",
              "        vertical-align: middle;\n",
              "    }\n",
              "\n",
              "    .dataframe tbody tr th {\n",
              "        vertical-align: top;\n",
              "    }\n",
              "\n",
              "    .dataframe thead th {\n",
              "        text-align: right;\n",
              "    }\n",
              "</style>\n",
              "<table border=\"1\" class=\"dataframe\">\n",
              "  <thead>\n",
              "    <tr style=\"text-align: right;\">\n",
              "      <th></th>\n",
              "      <th>X</th>\n",
              "      <th>Y</th>\n",
              "      <th>Name</th>\n",
              "      <th>location_name.2.1</th>\n",
              "      <th>location_type.2.1</th>\n",
              "      <th>address.2.1</th>\n",
              "      <th>Description.8.2.1</th>\n",
              "    </tr>\n",
              "  </thead>\n",
              "  <tbody>\n",
              "    <tr>\n",
              "      <th>0</th>\n",
              "      <td>103.747514</td>\n",
              "      <td>1.350191</td>\n",
              "      <td>kml_1</td>\n",
              "      <td>BUKIT BATOK CC</td>\n",
              "      <td>COMMUNITY</td>\n",
              "      <td>21 BUKIT BATOK CENTRAL</td>\n",
              "      <td>M1</td>\n",
              "    </tr>\n",
              "    <tr>\n",
              "      <th>1</th>\n",
              "      <td>103.836092</td>\n",
              "      <td>1.428036</td>\n",
              "      <td>kml_2</td>\n",
              "      <td>1 NORTHPOINT DRIVE</td>\n",
              "      <td>COMMUNITY</td>\n",
              "      <td>1 NORTHPOINT DRIVE</td>\n",
              "      <td>M1</td>\n",
              "    </tr>\n",
              "    <tr>\n",
              "      <th>2</th>\n",
              "      <td>103.846479</td>\n",
              "      <td>1.286329</td>\n",
              "      <td>kml_4</td>\n",
              "      <td>20 UPPER PICKERING ST</td>\n",
              "      <td>COMMUNITY</td>\n",
              "      <td>20 UPPER PICKERING STREET</td>\n",
              "      <td>M1</td>\n",
              "    </tr>\n",
              "    <tr>\n",
              "      <th>3</th>\n",
              "      <td>103.792241</td>\n",
              "      <td>1.427493</td>\n",
              "      <td>kml_7</td>\n",
              "      <td>ACE THE PLACE CC</td>\n",
              "      <td>COMMUNITY</td>\n",
              "      <td>120 WOODLANDS AVENUE 1</td>\n",
              "      <td>M1</td>\n",
              "    </tr>\n",
              "    <tr>\n",
              "      <th>4</th>\n",
              "      <td>103.888186</td>\n",
              "      <td>1.375252</td>\n",
              "      <td>kml_15</td>\n",
              "      <td>ACACIA RC</td>\n",
              "      <td>COMMUNITY</td>\n",
              "      <td>698C HOUGANG STREET 52</td>\n",
              "      <td>M1</td>\n",
              "    </tr>\n",
              "  </tbody>\n",
              "</table>\n",
              "</div>"
            ],
            "text/plain": [
              "            X         Y  ...                address.2.1 Description.8.2.1\n",
              "0  103.747514  1.350191  ...     21 BUKIT BATOK CENTRAL                M1\n",
              "1  103.836092  1.428036  ...         1 NORTHPOINT DRIVE                M1\n",
              "2  103.846479  1.286329  ...  20 UPPER PICKERING STREET                M1\n",
              "3  103.792241  1.427493  ...     120 WOODLANDS AVENUE 1                M1\n",
              "4  103.888186  1.375252  ...     698C HOUGANG STREET 52                M1\n",
              "\n",
              "[5 rows x 7 columns]"
            ]
          },
          "metadata": {},
          "execution_count": 31
        }
      ]
    },
    {
      "cell_type": "code",
      "metadata": {
        "colab": {
          "base_uri": "https://localhost:8080/",
          "height": 335
        },
        "id": "BDEf9xbgcsdb",
        "outputId": "560463a8-927b-4c58-81bf-1fcab799307b"
      },
      "source": [
        "df.drop(['location_type.2.1','Name','location_name.2.1','address.2.1','Description.8.2.1'] , axis=1).plot(kind='box', subplots=True, layout=(2,2), sharex=False, sharey=False, figsize=(9,9), \n",
        "                                        title='Box Plot for X and Y Coordinates')\n",
        "plt.savefig('coordinates')\n",
        "plt.show()"
      ],
      "execution_count": 32,
      "outputs": [
        {
          "output_type": "display_data",
          "data": {
            "image/png": "[encoded data removed]",
            "text/plain": [
              "<Figure size 648x648 with 4 Axes>"
            ]
          },
          "metadata": {
            "needs_background": "light"
          }
        }
      ]
    },
    {
      "cell_type": "code",
      "metadata": {
        "colab": {
          "base_uri": "https://localhost:8080/",
          "height": 602
        },
        "id": "X364TJjNdkvq",
        "outputId": "0b8c5ab4-3c37-421b-e8ac-1c7840ae18a9"
      },
      "source": [
        "import pylab as pl\n",
        "df.drop(['location_type.2.1','Name','location_name.2.1','address.2.1','Description.8.2.1'] , axis=1).hist(bins=30, figsize=(9,9))\n",
        "pl.suptitle(\"Histogram for each X and Y\")\n",
        "plt.savefig('Histogram of X and Y')\n",
        "plt.show()"
      ],
      "execution_count": 33,
      "outputs": [
        {
          "output_type": "display_data",
          "data": {
            "image/png": "[encoded data removed]",
            "text/plain": [
              "<Figure size 648x648 with 2 Axes>"
            ]
          },
          "metadata": {
            "needs_background": "light"
          }
        }
      ]
    },
    {
      "cell_type": "code",
      "metadata": {
        "id": "qLAMIB5ld3Pg"
      },
      "source": [
        "feature_names = ['X', 'Y']\n",
        "X = df[feature_names]\n",
        "y = df['location_type.2.1']  \n",
        "\n",
        "from sklearn.model_selection import train_test_split\n",
        "X_train, X_test, y_train, y_test = train_test_split(X, y, random_state=0)\n",
        "from sklearn.preprocessing import MinMaxScaler\n",
        "scaler = MinMaxScaler()\n",
        "X_train = scaler.fit_transform(X_train)\n",
        "X_test = scaler.transform(X_test) \n"
      ],
      "execution_count": 34,
      "outputs": []
    },
    {
      "cell_type": "markdown",
      "metadata": {
        "id": "106o8MHKg-pJ"
      },
      "source": [
        "Below We Use a Simple Logistic Regression Algorithm Provided by sklearn"
      ]
    },
    {
      "cell_type": "code",
      "metadata": {
        "colab": {
          "base_uri": "https://localhost:8080/"
        },
        "id": "qs2wLBSQerQn",
        "outputId": "4029f710-dbb1-4a15-b1b4-f86c4f2a7ce9"
      },
      "source": [
        "from sklearn.linear_model import LogisticRegression\n",
        "logreg = LogisticRegression()\n",
        "logreg.fit(X_train, y_train)\n",
        "print('Accuracy of Logistic regression classifier on training set: {:.2f}'\n",
        "     .format(logreg.score(X_train, y_train)))\n",
        "print('Accuracy of Logistic regression classifier on test set: {:.2f}'\n",
        "     .format(logreg.score(X_test, y_test)))"
      ],
      "execution_count": 35,
      "outputs": [
        {
          "output_type": "stream",
          "name": "stdout",
          "text": [
            "Accuracy of Logistic regression classifier on training set: 0.39\n",
            "Accuracy of Logistic regression classifier on test set: 0.36\n"
          ]
        }
      ]
    },
    {
      "cell_type": "markdown",
      "metadata": {
        "id": "V-JoWUCGhLfx"
      },
      "source": [
        "Below we use Decision Tree Classification from sklearn"
      ]
    },
    {
      "cell_type": "code",
      "metadata": {
        "colab": {
          "base_uri": "https://localhost:8080/"
        },
        "id": "cGUQ6xg3g1Gr",
        "outputId": "ea9bac2c-b3e6-4353-b73a-9a5a786ea9c4"
      },
      "source": [
        "from sklearn.tree import DecisionTreeClassifier\n",
        "clf = DecisionTreeClassifier().fit(X_train, y_train)\n",
        "print('Accuracy of Decision Tree classifier on training set: {:.2f}'\n",
        "     .format(clf.score(X_train, y_train)))\n",
        "print('Accuracy of Decision Tree classifier on test set: {:.2f}'\n",
        "     .format(clf.score(X_test, y_test)))"
      ],
      "execution_count": 36,
      "outputs": [
        {
          "output_type": "stream",
          "name": "stdout",
          "text": [
            "Accuracy of Decision Tree classifier on training set: 0.97\n",
            "Accuracy of Decision Tree classifier on test set: 0.45\n"
          ]
        }
      ]
    },
    {
      "cell_type": "code",
      "metadata": {
        "colab": {
          "base_uri": "https://localhost:8080/"
        },
        "id": "yr_GDkktmob7",
        "outputId": "97e2d0b7-ca78-4d97-d14f-ad747a2a40bb"
      },
      "source": [
        "import numpy as np\n",
        "y_pred = clf.predict(X_test) \n",
        "garbled_data = df.tail(200)['location_type.2.1'].tolist() #Last 200 rows all happen to be F&B \n",
        "\n",
        "correct = np.count_nonzero(y_pred[:200] == \"F&B\") \n",
        "print(correct)"
      ],
      "execution_count": 37,
      "outputs": [
        {
          "output_type": "stream",
          "name": "stdout",
          "text": [
            "42\n"
          ]
        }
      ]
    },
    {
      "cell_type": "code",
      "metadata": {
        "colab": {
          "base_uri": "https://localhost:8080/"
        },
        "id": "ndKAsNMVg3KH",
        "outputId": "3f4af025-085e-47e4-ab89-2f79fa530bfc"
      },
      "source": [
        "from sklearn.neighbors import KNeighborsClassifier\n",
        "knn = KNeighborsClassifier(n_neighbors=11)\n",
        "knn.fit(X_train, y_train)\n",
        "print('Accuracy of K-NN classifier on training set: {:.2f}'\n",
        "     .format(knn.score(X_train, y_train)))\n",
        "print('Accuracy of K-NN classifier on test set: {:.2f}'\n",
        "     .format(knn.score(X_test, y_test)))"
      ],
      "execution_count": 41,
      "outputs": [
        {
          "output_type": "stream",
          "name": "stdout",
          "text": [
            "Accuracy of K-NN classifier on training set: 0.55\n",
            "Accuracy of K-NN classifier on test set: 0.47\n"
          ]
        }
      ]
    },
    {
      "cell_type": "code",
      "metadata": {
        "colab": {
          "base_uri": "https://localhost:8080/"
        },
        "id": "7dRsXVGkmQxp",
        "outputId": "e5c139bc-89c4-4d2c-f961-f3753651c76b"
      },
      "source": [
        "import numpy as np\n",
        "y_pred_knn = knn.predict(X_test) \n",
        "garbled_data = df.tail(200)['location_type.2.1'].tolist() #Last 200 rows all happen to be F&B \n",
        "\n",
        "correct_knn = np.count_nonzero(y_pred_knn[:200] == \"F&B\") \n",
        "print(correct_knn)"
      ],
      "execution_count": 42,
      "outputs": [
        {
          "output_type": "stream",
          "name": "stdout",
          "text": [
            "46\n"
          ]
        }
      ]
    },
    {
      "cell_type": "code",
      "metadata": {
        "colab": {
          "base_uri": "https://localhost:8080/",
          "height": 279
        },
        "id": "79_Uwbc8siU9",
        "outputId": "2a4275eb-8c29-4e8c-ceb8-ff9833d02712"
      },
      "source": [
        "from sklearn.metrics import confusion_matrix\n",
        "from sklearn.metrics import plot_confusion_matrix\n",
        "plot_confusion_matrix(knn, X_test, y_test) \n",
        "plt.show() "
      ],
      "execution_count": 48,
      "outputs": [
        {
          "output_type": "display_data",
          "data": {
            "image/png": "[encoded data removed]",
            "text/plain": [
              "<Figure size 432x288 with 2 Axes>"
            ]
          },
          "metadata": {
            "needs_background": "light"
          }
        }
      ]
    }
  ]
}